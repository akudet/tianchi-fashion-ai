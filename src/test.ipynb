{
 "cells": [
  {
   "cell_type": "code",
   "execution_count": null,
   "metadata": {},
   "outputs": [],
   "source": [
    "% load_ext autoreload\n",
    "% autoreload 2\n",
    "\n",
    "%matplotlib inline"
   ]
  },
  {
   "cell_type": "code",
   "execution_count": null,
   "metadata": {},
   "outputs": [],
   "source": [
    "from dataset import *\n",
    "from model import *"
   ]
  },
  {
   "cell_type": "code",
   "execution_count": null,
   "metadata": {
    "scrolled": true
   },
   "outputs": [],
   "source": [
    "root = os.path.join(\"..\", \"data\", \"test\")\n",
    "anno_path = os.path.join(root, \"test.csv\")\n",
    "data_test = fashion_ai_dataset(root, anno_path, is_train=False)"
   ]
  },
  {
   "cell_type": "code",
   "execution_count": null,
   "metadata": {
    "scrolled": false
   },
   "outputs": [],
   "source": [
    "import matplotlib.pyplot as plt\n",
    "import cv2\n",
    "import numpy as np\n",
    "\n",
    "from random import randint\n",
    "from torchvision.transforms import ToPILImage, Normalize\n",
    "\n",
    "def show_data(x, y, y_pred=None):\n",
    "    to_img = ToPILImage()\n",
    "    to_kpts = HeatmapToKeyPoints()\n",
    "    \n",
    "    def kpts_img(kpts, blur=True):\n",
    "        img = torch.sum(kpts, 0, keepdim=True)\n",
    "        img = to_img(img)\n",
    "        img = np.array(img)\n",
    "        if blur:\n",
    "            img = cv2.GaussianBlur(img, (5, 5), 1)\n",
    "        return img\n",
    "    \n",
    "    num_img = 2 if y_pred is None else 3\n",
    "    plt.figure(figsize=(18, 18 // num_img))\n",
    "    \n",
    "    # undo the normalize by resnet\n",
    "    mu = np.array([0.485, 0.456, 0.406])\n",
    "    std = np.array([0.229, 0.224, 0.225])\n",
    "    mu = -mu / std\n",
    "    std = 1 / std\n",
    "    normalize = Normalize(mu, std)\n",
    "    plt.subplot(1, num_img, 1)\n",
    "    plt.imshow(to_img(normalize(x)))\n",
    "    \n",
    "    y, mask, size = y\n",
    "    y *= mask\n",
    "    plt.subplot(1, num_img, 2)\n",
    "    plt.imshow(kpts_img(y, blur=False))\n",
    "\n",
    "    if y_pred is not None:\n",
    "        kpts = to_kpts(y_pred.unsqueeze(0), mask.unsqueeze(0), size.unsqueeze(0))\n",
    "        print(kpts)\n",
    "        y_pred *= mask\n",
    "        plt.subplot(1, num_img, 3)\n",
    "        plt.imshow(kpts_img(y_pred))"
   ]
  },
  {
   "cell_type": "code",
   "execution_count": null,
   "metadata": {
    "scrolled": false
   },
   "outputs": [],
   "source": [
    "model = CascadePyramidNet(24)\n",
    "model.load_state_dict(torch.load(\"w.h5\"))"
   ]
  },
  {
   "cell_type": "code",
   "execution_count": null,
   "metadata": {
    "scrolled": true
   },
   "outputs": [],
   "source": [
    "test_loader = data.DataLoader(data_test, batch_size=32, num_workers=6)\n",
    "\n",
    "to_kpts = HeatmapToKeyPoints()\n",
    "result = pd.DataFrame(columns=kpt_names)\n",
    "\n",
    "model = model.cuda()\n",
    "for x, (mask, size) in test_loader:\n",
    "    x = x.cuda()\n",
    "    mask = mask.cuda()\n",
    "    size = size.cuda()\n",
    "    with torch.no_grad():\n",
    "        _, heatmap = model(x)\n",
    "    bat_kpts = to_kpts(heatmap, mask, size)\n",
    "    bat_kpts = bat_kpts.cpu().numpy()\n",
    "    bat_kpts = list(map(lambda kpts : list(map(lambda kpt : \"_\".join(kpt.astype('str')), kpts)), bat_kpts))\n",
    "    bat_kpts = pd.DataFrame(data=bat_kpts, columns=FashionAIDataset.kpt_names)\n",
    "    result = result.append(bat_kpts,ignore_index=True)\n",
    "    \n",
    "df = data_test.dataset.df[[\"image_id\", \"image_category\"]]\n",
    "result = df.join(result)"
   ]
  },
  {
   "cell_type": "code",
   "execution_count": null,
   "metadata": {},
   "outputs": [],
   "source": [
    "result.to_csv(\"r.csv\")"
   ]
  },
  {
   "cell_type": "code",
   "execution_count": null,
   "metadata": {
    "scrolled": false
   },
   "outputs": [],
   "source": [
    "idx = randint(0, len(data_train) - 1)\n",
    "#idx = 19629\n",
    "print(data_train.dataset.df.iloc[idx])\n",
    "\n",
    "x, y = data_train[idx]\n",
    "heatmap = model(x.unsqueeze(0).cuda())[1].squeeze(0).cpu()\n",
    "show_data(x, (heatmap, *y))"
   ]
  },
  {
   "cell_type": "code",
   "execution_count": null,
   "metadata": {},
   "outputs": [],
   "source": []
  },
  {
   "cell_type": "code",
   "execution_count": null,
   "metadata": {},
   "outputs": [],
   "source": []
  }
 ],
 "metadata": {
  "kernelspec": {
   "display_name": "Python 3",
   "language": "python",
   "name": "python3"
  },
  "language_info": {
   "codemirror_mode": {
    "name": "ipython",
    "version": 3
   },
   "file_extension": ".py",
   "mimetype": "text/x-python",
   "name": "python",
   "nbconvert_exporter": "python",
   "pygments_lexer": "ipython3",
   "version": "3.6.4"
  }
 },
 "nbformat": 4,
 "nbformat_minor": 2
}
