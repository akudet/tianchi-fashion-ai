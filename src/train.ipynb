{
 "cells": [
  {
   "cell_type": "code",
   "execution_count": null,
   "metadata": {},
   "outputs": [],
   "source": [
    "% load_ext autoreload\n",
    "% autoreload 2\n",
    "\n",
    "%matplotlib inline"
   ]
  },
  {
   "cell_type": "code",
   "execution_count": null,
   "metadata": {},
   "outputs": [],
   "source": [
    "from dataset import *\n",
    "from model import *\n",
    "from solver import *"
   ]
  },
  {
   "cell_type": "code",
   "execution_count": null,
   "metadata": {
    "scrolled": true
   },
   "outputs": [],
   "source": [
    "#data_train = moving_mnist_dataset(os.path.join(\"..\", \"data\", \"mnist\", \"mnist_test_seq.npy\"))\n",
    "anno_path = os.path.join(\"..\", \"data\", \"train\", \"Annotations\", \"train.csv\")\n",
    "img_folder = os.path.join(\"..\", \"data\", \"train\")\n",
    "data_train = fashion_ai_dataset(img_folder, anno_path)"
   ]
  },
  {
   "cell_type": "code",
   "execution_count": null,
   "metadata": {
    "scrolled": false
   },
   "outputs": [],
   "source": [
    "import matplotlib.pyplot as plt\n",
    "import cv2\n",
    "import numpy as np\n",
    "\n",
    "from random import randint\n",
    "from torchvision.transforms import ToPILImage, Normalize\n",
    "\n",
    "def show_data(x, y, y_pred=None):\n",
    "    to_img = ToPILImage()\n",
    "    \n",
    "    def kpts_img(kpts, blur=True):\n",
    "        img = torch.sum(kpts, 0, keepdim=True)\n",
    "        img = to_img(img)\n",
    "        img = np.array(img)\n",
    "        if blur:\n",
    "            img = cv2.GaussianBlur(img, (5, 5), 1)\n",
    "        return img\n",
    "    \n",
    "    num_img = 2 if y_pred is None else 3\n",
    "    plt.figure(figsize=(18, 18 // num_img))\n",
    "    \n",
    "    # undo the normalize by resnet\n",
    "    mu = np.array([0.485, 0.456, 0.406])\n",
    "    std = np.array([0.229, 0.224, 0.225])\n",
    "    mu = -mu / std\n",
    "    std = 1 / std\n",
    "    normalize = Normalize(mu, std)\n",
    "    plt.subplot(1, num_img, 1)\n",
    "    plt.imshow(to_img(normalize(x)))\n",
    "    \n",
    "    mask, y = y\n",
    "    y *= mask\n",
    "    plt.subplot(1, num_img, 2)\n",
    "    plt.imshow(kpts_img(y, blur=False))\n",
    "    \n",
    "    if y_pred is not None:\n",
    "        y_pred *= mask\n",
    "        plt.subplot(1, num_img, 3)\n",
    "        plt.imshow(kpts_img(y_pred))"
   ]
  },
  {
   "cell_type": "code",
   "execution_count": null,
   "metadata": {
    "scrolled": false
   },
   "outputs": [],
   "source": [
    "idx = randint(0, len(data_train) - 1)\n",
    "#idx = 19629\n",
    "print(data_train.dataset.df.iloc[idx])\n",
    "show_data(*data_train[idx])"
   ]
  },
  {
   "cell_type": "code",
   "execution_count": null,
   "metadata": {
    "scrolled": false
   },
   "outputs": [],
   "source": [
    "import torch\n",
    "import torch.nn as nn\n",
    "\n",
    "model = CascadePyramidNet(24)\n",
    "#model.load_state_dict(torch.load(\"w.h5\"))\n",
    "loss_fn = LossWithMask(nn.MSELoss())\n",
    "optim = torch.optim.Adam(model.parameters(), lr=0.001)\n",
    "\n",
    "solver = Solver(model, optim, loss_fn, loss_fn)"
   ]
  },
  {
   "cell_type": "code",
   "execution_count": null,
   "metadata": {
    "scrolled": true
   },
   "outputs": [],
   "source": [
    "solver.fit(data_train, 1, batch_size=16, print_cnt=50)"
   ]
  },
  {
   "cell_type": "code",
   "execution_count": null,
   "metadata": {},
   "outputs": [],
   "source": [
    "torch.save(model.state_dict(), \"w.h5\")"
   ]
  },
  {
   "cell_type": "code",
   "execution_count": null,
   "metadata": {
    "scrolled": false
   },
   "outputs": [],
   "source": [
    "idx = randint(0, len(data_train) - 1)\n",
    "#idx = 19629\n",
    "print(data_train.dataset.df.iloc[idx])\n",
    "\n",
    "x, y = data_train[idx]\n",
    "show_data(x, y, model(x.unsqueeze(0).cuda()).squeeze(0).cpu())"
   ]
  },
  {
   "cell_type": "code",
   "execution_count": null,
   "metadata": {},
   "outputs": [],
   "source": []
  }
 ],
 "metadata": {
  "kernelspec": {
   "display_name": "Python 3",
   "language": "python",
   "name": "python3"
  },
  "language_info": {
   "codemirror_mode": {
    "name": "ipython",
    "version": 3
   },
   "file_extension": ".py",
   "mimetype": "text/x-python",
   "name": "python",
   "nbconvert_exporter": "python",
   "pygments_lexer": "ipython3",
   "version": "3.6.4"
  }
 },
 "nbformat": 4,
 "nbformat_minor": 2
}
